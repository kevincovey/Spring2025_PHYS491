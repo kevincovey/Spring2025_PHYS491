{
 "cells": [
  {
   "cell_type": "markdown",
   "metadata": {},
   "source": [
    "color_evol\n",
    "----------\n",
    "\n",
    "This notebook produces figure 3 of the review by Krumholz, McKee, & Bland-Hawthorn (2019, ARA&A, submitted). It operates on the outputs of a SLUG simulation ([da Silva, Fumagalli, & Krumholz, 2012, ApJ, 75, 145](http://adsabs.harvard.edu/abs/2012ApJ...745..145D), [Krumholz et al., 2015, MNRAS, 452, 1447](http://adsabs.harvard.edu/abs/2015MNRAS.452.1447K)), which is included in the repository.\n",
    "\n",
    "In addition to the standard dependencies of all notebooks in this repository, this notebook requires [Stochastically Lighting Up Galaxies (SLUG)](https://bitbucket.org/krumholz/slug2). The SLUG parameter file that generated the tracks is included in the `data` subdirectory of the repository as `clusters_araa.param`, but the tracks are also included, so they do not need to be regenerated. However, the slugpy python library portion of the SLUG package is still required to read the tracks."
   ]
  },
  {
   "cell_type": "code",
   "execution_count": 1,
   "metadata": {},
   "outputs": [],
   "source": [
    "%matplotlib inline"
   ]
  },
  {
   "cell_type": "code",
   "execution_count": 2,
   "metadata": {},
   "outputs": [],
   "source": [
    "from slugpy import read_cluster\n",
    "import numpy as np\n",
    "import matplotlib.pyplot as plt\n",
    "import matplotlib as mpl\n",
    "import os.path as osp"
   ]
  },
  {
   "cell_type": "code",
   "execution_count": 3,
   "metadata": {},
   "outputs": [],
   "source": [
    "# Read the SLUG run; make shortcut to various outputs\n",
    "data = read_cluster(osp.join('data', 'cluster_tracks'))\n",
    "logt = np.log10(data.time)"
   ]
  },
  {
   "cell_type": "code",
   "execution_count": 4,
   "metadata": {},
   "outputs": [],
   "source": [
    "# Make a funky color map by combining three others\n",
    "c1 = plt.cm.Greens(np.linspace(0,1,256//3))\n",
    "c2 = plt.cm.Blues(np.linspace(0,1,256//3))\n",
    "c3 = plt.cm.Reds(np.linspace(0,1,256//3))\n",
    "clr = np.vstack((c1, c2, c3))\n",
    "cmap = mpl.colors.LinearSegmentedColormap.from_list('split_map', clr)\n",
    "norm  = mpl.colors.Normalize(vmin=6, vmax=9)\n",
    "mapper = plt.cm.ScalarMappable(norm=norm, cmap=cmap)"
   ]
  },
  {
   "cell_type": "code",
   "execution_count": 5,
   "metadata": {},
   "outputs": [
    {
     "data": {
      "image/png": "[encoded data removed]",
      "text/plain": [
       "<Figure size 576x144 with 4 Axes>"
      ]
     },
     "metadata": {},
     "output_type": "display_data"
    }
   ],
   "source": [
    "# Make color-color plots\n",
    "fig=plt.figure(1, figsize=(8,2))\n",
    "plt.rc('text', usetex=True)\n",
    "plt.rc('font', family='serif')\n",
    "plt.clf()\n",
    "\n",
    "# Control parameters\n",
    "skip=5\n",
    "arrow_times = [6.25, 6.5, 6.75, 7.0, 7.25, 7.25, 7.75, 8.0, 8.25, 8.5, 8.75]\n",
    "head_width=0.05\n",
    "\n",
    "# Make a dummy plot to have a mappable we can use to make a colorbar\n",
    "dummy_z = [[0,0],[0,0]]\n",
    "dummy_mappable = plt.imshow(dummy_z, cmap=cmap, vmin=6, vmax=9)\n",
    "plt.clf()\n",
    "\n",
    "# Filter combinations on x and y axes\n",
    "x_colors = [['WFC3_UVIS_F336W', 'WFC3_UVIS_F438W'],\n",
    "            ['WFC3_UVIS_F555W', 'WFC3_UVIS_F814W'],\n",
    "            ['WFC3_IR_F110W', 'WFC3_IR_F160W']\n",
    "           ]\n",
    "x_labels = [['U', 'B'],\n",
    "            ['V', 'I'], \n",
    "            ['YJ', 'H']]\n",
    "x_lim = [[-0.5, 1.5], \n",
    "         [-1.2, 1], \n",
    "         [-1.3, 0.5]]\n",
    "y_colors = ['WFC3_UVIS_F225W', 'WFC3_UVIS_F336W']\n",
    "y_labels = ['UV', 'U']\n",
    "y_lim = [-0.5,1]\n",
    "\n",
    "# Get color on y axis\n",
    "cy = data.phot_neb[:,data.filter_names.index(y_colors[0])] - \\\n",
    "     data.phot_neb[:,data.filter_names.index(y_colors[1])]\n",
    "cy_ex = data.phot_neb_ex[:,data.filter_names.index(y_colors[0])] - \\\n",
    "        data.phot_neb_ex[:,data.filter_names.index(y_colors[1])]\n",
    "\n",
    "# Make panels\n",
    "for n in range(len(x_colors)):\n",
    "    \n",
    "    # Make panel\n",
    "    #plt.subplot(2,(len(x_colors)+1)//2,n+1)\n",
    "    plt.subplot(1,len(x_colors),n+1)\n",
    "    \n",
    "    # Get color on x axis\n",
    "    cx = data.phot_neb[:,data.filter_names.index(x_colors[n][0])] - \\\n",
    "         data.phot_neb[:,data.filter_names.index(x_colors[n][1])]\n",
    "    cx_ex = data.phot_neb_ex[:,data.filter_names.index(x_colors[n][0])] - \\\n",
    "            data.phot_neb_ex[:,data.filter_names.index(x_colors[n][1])]\n",
    "\n",
    "    # Plot track\n",
    "    for i in range(len(cx)//skip-1):\n",
    "\n",
    "        # Unextincted track\n",
    "        j = i*skip\n",
    "        plt.plot(cx[j:j+skip], cy[j:j+skip], lw=3, color=mapper.to_rgba(logt[j]))\n",
    "    \n",
    "        # Add A_V = 1 arrows\n",
    "        if np.sum([np.isclose(logt[j], t) for t in arrow_times]):\n",
    "            plt.arrow(cx[j], cy[j], cx_ex[j]-cx[j], cy_ex[j]-cy[j],\n",
    "                  color=mapper.to_rgba(logt[j]),\n",
    "                  length_includes_head=True,\n",
    "                  head_width=head_width,\n",
    "                  zorder=10)\n",
    "\n",
    "    # Adjust limits and labels\n",
    "    plt.xlim(x_lim[n])\n",
    "    plt.ylim(y_lim)\n",
    "    plt.xlabel(r'{:s}$-${:s} [mag]'.format(x_labels[n][0], x_labels[n][1]))\n",
    "    #if n % ((len(x_colors)+1)//2) == 0:\n",
    "    if n == 0:\n",
    "        plt.ylabel(r'{:s}$-${:s} [mag]'.format(y_labels[0], y_labels[1]))\n",
    "    else:\n",
    "        plt.gca().set_yticklabels([])\n",
    "\n",
    "# Adjust spacing\n",
    "plt.subplots_adjust(wspace=0.05, left=0.1, bottom=0.22, top=0.95, right=0.89, hspace=0.3)\n",
    "\n",
    "# Add colorbar\n",
    "cax = fig.add_axes([0.91, 0.22, 0.02, 0.95-0.22])\n",
    "fig.colorbar(dummy_mappable, cax=cax, label=r'$\\log\\,T$ [yr]')\n",
    "\n",
    "# Save\n",
    "plt.savefig(osp.join('figures', 'color_evol.pdf'))"
   ]
  },
  {
   "cell_type": "code",
   "execution_count": null,
   "metadata": {},
   "outputs": [],
   "source": []
  }
 ],
 "metadata": {
  "kernelspec": {
   "display_name": "Python 2",
   "language": "python",
   "name": "python2"
  },
  "language_info": {
   "codemirror_mode": {
    "name": "ipython",
    "version": 2
   },
   "file_extension": ".py",
   "mimetype": "text/x-python",
   "name": "python",
   "nbconvert_exporter": "python",
   "pygments_lexer": "ipython2",
   "version": "2.7.15"
  }
 },
 "nbformat": 4,
 "nbformat_minor": 2
}
