{
 "cells": [
  {
   "cell_type": "markdown",
   "metadata": {},
   "source": [
    "epsff\n",
    "-----\n",
    "\n",
    "This notebook produces figures 10 and 11 of the review Krumholz, McKee, & Bland-Hawthorn (2019, ARA&A, submitted). It operates on the following data files: `lada2013.txt` (from [Lada et al., 2013, ApJ, 778, 133](http://adsabs.harvard.edu/abs/2013ApJ...778..133L), data provided by C. Lada), `evans2014_0yso.txt`, `evans2014_1yso.txt`, and `evans2014_nyso.txt` (from [Evans, Heiderman, & Vutisalchavakul, 2014, ApJ, 782, 114](http://adsabs.harvard.edu/abs/2014ApJ...782..114E), data provided by N. Evans), `heyer2016_sf.fits` and `heyer2016_nosf.fits` (from [Heyer et al., 2016, A&A, 588, A29](http://adsabs.harvard.edu/abs/2016A%26A...588A..29H), data downloaded from [VizieR](http://vizier.u-strasbg.fr/viz-bin/VizieR)), `ochsendorf2017.txt`, `ochsendorf2017_j16_yso.txt`, `ochsendorf2017_j16_ha24.txt`, `ochsendorf2017_mag_yso.txt`, and `ochsendorf2017_mag_ha24.txt` (from [Ochsendorf et al., 2017, ApJ, 841, 109](http://adsabs.harvard.edu/abs/2017ApJ...841..109O)), `vutisalchavakul2016_gas.txt` and `vutisalchavakul2016_sfr.txt` (from [Vutisalchavakul, Evans, & Heyer, 2016, ApJ, 831, 73](http://adsabs.harvard.edu/abs/2016ApJ...831...73V)), `lee2016.txt` (from [Lee, Miville-Deschenes, & Murray, 2016, ApJ, 833, 229](http://adsabs.harvard.edu/abs/2016ApJ...833..229L)), `leroy2017.txt` (from [Leroy et al., 2017, ApJ, 846, 71](http://adsabs.harvard.edu/abs/2017ApJ...846...71L)), `utomo2018.txt` (from [Utomo et al., 2018, ApJL, 861, L18](https://ui.adsabs.harvard.edu/#abs/2018ApJ...861L..18U), data provided by D. Utomo), `wu2010.txt` (from [Wu et al., 2010, ApJS, 188, 313](http://adsabs.harvard.edu/abs/2010ApJS..188..313W), data provided by J. Wu), `usero2015.txt` (from [Usero et al., 2015, AJ, 150, 115](http://adsabs.harvard.edu/abs/2015AJ....150..115U), data provided by A. Usero), `stephens2016.txt` (from [Stepens et al. 2016, ApJ, 824, 92](http://adsabs.harvard.edu/abs/2016ApJ...824...29S)), `gallagher2018.txt` (from [Gallagher et al., 2018, ApJ, 858, 90](http://adsabs.harvard.edu/abs/2018ApJ...858...90G)). It also uses an image, `ochsendorf2017.png`, extracted from Figure 1 of [Ochsendorf et al., 2017, ApJ, 841, 109](http://adsabs.harvard.edu/abs/2017ApJ...841..109O), used with permission of the AAS."
   ]
  },
  {
   "cell_type": "code",
   "execution_count": 1,
   "metadata": {},
   "outputs": [],
   "source": [
    "# Make plots inline\n",
    "%matplotlib inline"
   ]
  },
  {
   "cell_type": "code",
   "execution_count": 2,
   "metadata": {},
   "outputs": [],
   "source": [
    "# Import libraries\n",
    "import numpy as np\n",
    "import matplotlib.pyplot as plt\n",
    "import os.path as osp\n",
    "from astropy.io import fits\n",
    "import astropy.io.ascii as asc\n",
    "from astropy.units import pc, kpc, Msun, km, s, cm, erg, Myr, Lsun\n",
    "from astropy.constants import G, m_p\n",
    "from collections import OrderedDict\n",
    "from scipy.special import erfc\n",
    "import matplotlib.image as mpimg\n",
    "from matplotlib.ticker import StrMethodFormatter"
   ]
  },
  {
   "cell_type": "code",
   "execution_count": 3,
   "metadata": {},
   "outputs": [],
   "source": [
    "# Holder for data\n",
    "data_sets = []"
   ]
  },
  {
   "cell_type": "code",
   "execution_count": 4,
   "metadata": {},
   "outputs": [],
   "source": [
    "# Import Lada+ 2013 data set; process following method of KDM12 / Krumholz (2014)\n",
    "ladadat = asc.read(osp.join('data', 'lada2013.txt'))\n",
    "arealada = ladadat['AREA'].data*pc**2\n",
    "sigmaSFRlada = ladadat['NSTARS'].data*0.25*Msun/(0.25*Myr)/arealada\n",
    "sigmaSFRerrlada = np.sqrt(ladadat['NSTARS'].data)*0.25*Msun/(0.25*Myr)/arealada\n",
    "AKtosigmag = 183*Msun/pc**2\n",
    "sigmaglada = ladadat['AK_MEAN']*AKtosigmag\n",
    "masslada = sigmaglada*arealada\n",
    "areadifflada = arealada[:-1]-arealada[1:]\n",
    "massdifflada = masslada[:-1]-masslada[1:]\n",
    "sigmaSFRdifflada = (ladadat['NSTARS'].data[:-1] - \n",
    "                    ladadat['NSTARS'].data[1:])*0.25*Msun/(0.25*Myr) \\\n",
    "    / areadifflada\n",
    "sigmaSFRdifferrlada = np.sqrt(ladadat['NSTARS'].data[:-1] - \n",
    "                              ladadat['NSTARS'].data[1:]) \\\n",
    "    *0.25*Msun/(0.25*Myr) \\\n",
    "    / areadifflada\n",
    "sigmagdifflada = massdifflada/areadifflada\n",
    "rholada = 3*np.pi**0.5/4*massdifflada/areadifflada**1.5\n",
    "tfflada = np.sqrt(3*np.pi/(32*G*rholada))\n",
    "efflada = sigmaSFRdifflada/(sigmagdifflada/tfflada)\n",
    "epsff = np.array(efflada.to(''))\n",
    "data_sets.append({'author' : 'L13',\n",
    "                  'method' : 'YSO counting',\n",
    "                  'epsff'  : epsff})"
   ]
  },
  {
   "cell_type": "code",
   "execution_count": 5,
   "metadata": {},
   "outputs": [],
   "source": [
    "# Evans+ 2014 data set; includes 3 files: nyso = >2 YSOs detected, valid upper and lower limits;\n",
    "# 1yso = 1 YSO detected, results give central estimate and upper limit only, no lower limit\n",
    "# 0yso = 0 YSOs detected, only upper limit\n",
    "\n",
    "# Detections plus limits\n",
    "data = asc.read(osp.join('data', 'evans2014_nyso.txt'))\n",
    "epsffn = 10.**data['log_Sigma_sfr'] / 10.**data['log_Sigma_ovr_tff']\n",
    "data = asc.read(osp.join('data', 'evans2014_1yso.txt'))\n",
    "epsff1 = 10.**data['log_Sigma_sfr'] / 10.**data['log_Sigma_ovr_tff']\n",
    "epsff = np.concatenate([epsffn, epsff1])\n",
    "data = asc.read(osp.join('data', 'evans2014_0yso.txt'))\n",
    "epsff0 = 10.**data['log_Sigma_sfr'] / 10.**data['log_Sigma_ovr_tff']\n",
    "epsff = np.concatenate([epsff, epsff0])\n",
    "data_sets.append({'author' : 'E14',\n",
    "                  'method' : 'YSO counting',\n",
    "                  'epsff'  : epsff})\n",
    "\n",
    "# Detections only\n",
    "data = asc.read(osp.join('data', 'evans2014_nyso.txt'))\n",
    "epsffn = 10.**data['log_Sigma_sfr'] / 10.**data['log_Sigma_ovr_tff']\n",
    "data = asc.read(osp.join('data', 'evans2014_1yso.txt'))\n",
    "epsff1 = 10.**data['log_Sigma_sfr'] / 10.**data['log_Sigma_ovr_tff']\n",
    "epsff = np.concatenate([epsffn, epsff1])\n",
    "data_sets.append({'author' : 'E14',\n",
    "                  'method' : 'YSO counting',\n",
    "                  'epsff'  : epsff})"
   ]
  },
  {
   "cell_type": "code",
   "execution_count": 6,
   "metadata": {},
   "outputs": [],
   "source": [
    "# Import Heyer+ 2016 data set; two versions, one with all clouds, one with star-forming only\n",
    "\n",
    "# Star-forming sample\n",
    "hdulist = fits.open(osp.join('data', 'heyer2016_sf.fits'))\n",
    "epsff_lo_heyer2016 = hdulist[1].data['SigmaSFR'] / \\\n",
    "                     (hdulist[1].data['SigmaH2']/hdulist[1].data['tauff'])\n",
    "epsff_hi_heyer2016 = epsff_lo_heyer2016 * hdulist[1].data['Mcorr']\n",
    "epsff_heyer2016_sf = np.sqrt(epsff_lo_heyer2016*epsff_hi_heyer2016)\n",
    "hdulist.close()\n",
    "\n",
    "# Non-star-forming sample\n",
    "hdulist = fits.open(osp.join('data', 'heyer2016_nosf.fits'))\n",
    "epsff_ulim_heyer2016 = hdulist[1].data['SigmaSFRlim'] / \\\n",
    "                       (hdulist[1].data['SigmaH2']/hdulist[1].data['tauff'])\n",
    "idx = epsff_lo_heyer2016 > 0\n",
    "mean_corr = np.mean(epsff_hi_heyer2016[idx]/epsff_lo_heyer2016[idx])\n",
    "epsff_heyer2016 = np.concatenate([epsff_heyer2016_sf, mean_corr*epsff_ulim_heyer2016])\n",
    "hdulist.close()\n",
    "\n",
    "# Save both; set with upper limits included does first\n",
    "data_sets.append({'author' : 'H16', \n",
    "                  'method' : 'YSO counting',\n",
    "                  'epsff' : epsff_heyer2016})\n",
    "data_sets.append({'author' : 'H16', \n",
    "                  'method' : 'YSO counting',\n",
    "                  'epsff' : epsff_heyer2016_sf})"
   ]
  },
  {
   "cell_type": "code",
   "execution_count": 7,
   "metadata": {},
   "outputs": [],
   "source": [
    "# Ochsendorf+ 2017 data set, using YSO-determined SFRs and\n",
    "# the Jameson+ 2016-based cloud catalog; we include this \n",
    "# twice, once with just detections, and once including upper\n",
    "# limits. For the upper limit, we use Ochsendorft+ 2017's \n",
    "# estimate that they are insensitive to SFRs below \n",
    "# 100 Msun / Myr\n",
    "data = asc.read(osp.join('data', 'ochsendorf2017_j16_yso.txt'))\n",
    "epsff = np.copy(data['SFEff'])\n",
    "idx = epsff == 0.0\n",
    "epsff[idx] = 100./(data['Mass'][idx]/data['tff'][idx])\n",
    "data_sets.append({'author' : 'O17',\n",
    "                  'method' : 'YSO counting',\n",
    "                  'epsff' : epsff})\n",
    "epsff = data['SFEff']\n",
    "data_sets.append({'author' : 'O17',\n",
    "                  'method' : 'YSO counting',\n",
    "                  'epsff' : epsff[epsff>0]})"
   ]
  },
  {
   "cell_type": "code",
   "execution_count": 8,
   "metadata": {},
   "outputs": [],
   "source": [
    "# Vutisalchavakul, Evans, & Heyer 2016 sample\n",
    "data = asc.read(osp.join('data', 'vutisalchavakul2016_sfr.txt'))\n",
    "sfr = data['SFR-MIR']\n",
    "data= asc.read(osp.join('data', 'vutisalchavakul2016_gas.txt'))\n",
    "m = data['MCloud']\n",
    "tff = data['tff']\n",
    "try:\n",
    "    mtff = m.to('Msun')/tff.to('Myr')\n",
    "except ValueError:\n",
    "    # Early versions of astropy throw a value error here, because\n",
    "    # they don't recognize kMsun (the unit of mass listed in the\n",
    "    # table) as a valid unit. We therefore have to brute-force it.\n",
    "    m = np.array(m)*1e3*Msun\n",
    "    mtff = m.to('Msun')/tff.to('Myr')\n",
    "epsff = np.array((sfr/mtff).to(''))\n",
    "data_sets.append({'author' : 'V16', \n",
    "                  'method' : 'Cloud matching',\n",
    "                  'epsff' : epsff})"
   ]
  },
  {
   "cell_type": "code",
   "execution_count": 9,
   "metadata": {},
   "outputs": [],
   "source": [
    "# Lee, Miville-Deschenes, & Murray 2016 sample\n",
    "data = asc.read(osp.join('data', 'lee2016.txt'))\n",
    "data_sets.append({'author' : 'L16',\n",
    "                  'method' : 'Cloud matching',\n",
    "                  'epsff' : data['SFRbr']})"
   ]
  },
  {
   "cell_type": "code",
   "execution_count": 10,
   "metadata": {},
   "outputs": [],
   "source": [
    "# Ochsendorf+ 2017 cloud-matching method\n",
    "data = asc.read(osp.join('data', 'ochsendorf2017.txt'))\n",
    "data_sets.append({'author' : 'O17',\n",
    "                  'method' : 'Cloud matching',\n",
    "                  'epsff' : data['SFEff']})"
   ]
  },
  {
   "cell_type": "code",
   "execution_count": 11,
   "metadata": {},
   "outputs": [
    {
     "name": "stderr",
     "output_type": "stream",
     "text": [
      "WARNING: UnitsWarning: 'Msun/yr/kpc2' contains multiple slashes, which is discouraged by the FITS standard [astropy.units.format.generic]\n",
      "WARNING: UnitsWarning: 'Msun/pc2/km2/s2' contains multiple slashes, which is discouraged by the FITS standard [astropy.units.format.generic]\n"
     ]
    }
   ],
   "source": [
    "# Leroy+ 2017 data\n",
    "data = asc.read(osp.join('data', 'leroy2017.txt'))\n",
    "rho = data['SigmaCO-40pc']/(100*pc)      # Leroy's recommended estimate of volume density\n",
    "tff = np.sqrt(3.0*np.pi/(32*G*rho))\n",
    "epsff = data['SigmaSFR'] / (data['SigmaCO']/tff)\n",
    "epsff = np.array(epsff.to(''))\n",
    "data_sets.append({'author' : 'L17',\n",
    "                  'method' : 'Pixel statistics',\n",
    "                  'epsff' : epsff})"
   ]
  },
  {
   "cell_type": "code",
   "execution_count": 12,
   "metadata": {},
   "outputs": [],
   "source": [
    "# Utomo+ 2018 data\n",
    "data = asc.read(osp.join('data', 'utomo2018.txt'))\n",
    "epsff = np.array(data['eff'])\n",
    "data_sets.append({'author' : 'U18',\n",
    "                  'method' : 'Pixel statistics',\n",
    "                  'epsff' : epsff})"
   ]
  },
  {
   "cell_type": "code",
   "execution_count": 13,
   "metadata": {},
   "outputs": [],
   "source": [
    "# Wu+ 2010 data; unfortunately not written in a nicely-parsable format, so \n",
    "# we have to parse it manually; IR converted to SFR using Kennicutt & Evans\n",
    "# 2012 calibration\n",
    "fp=open(osp.join('data', 'wu2010.txt'), 'r')\n",
    "log_lir = []\n",
    "log_lhcn = []\n",
    "started = False\n",
    "for line in fp:\n",
    "    spl = line.split('\\t')\n",
    "    if len(spl) < 3:\n",
    "        if not started:\n",
    "            continue\n",
    "        else:\n",
    "            break\n",
    "    if spl[0] == 'Source': continue\n",
    "    if spl[1] == '(L_sun)': continue\n",
    "    if spl[1] == '' or spl[2] == '': continue\n",
    "    if started == False:\n",
    "        started = True\n",
    "    log_lir.append(float(spl[1]))\n",
    "    log_lhcn.append(float(spl[2].split('(')[0]))\n",
    "fp.close()\n",
    "lir = 10.**np.array(log_lir)\n",
    "lhcn = 10.**np.array(log_lhcn)\n",
    "sfr = 10.**(np.array(np.log10(lir*Lsun/(erg/s)).to('')) - 43.41)\n",
    "epsff = np.array(0.01 * (sfr/lhcn/2.0e-7)**(1/1.1))\n",
    "data_sets.append({'author' : 'W10',\n",
    "                  'method' : 'HCN',\n",
    "                  'epsff' : epsff})"
   ]
  },
  {
   "cell_type": "code",
   "execution_count": 14,
   "metadata": {},
   "outputs": [],
   "source": [
    "# Usero+ 2015 data set; note that what we have in the file is Mdense and\n",
    "# SFR; to ensure consistency, we convert these back into the original HCN\n",
    "# and IR luminosities, then use the same Onus+ 2018 calibration as for\n",
    "# the other HCN data sets\n",
    "data = asc.read(osp.join('data', 'usero2015.txt'))\n",
    "lhcn = data['Mdense'][data['det']=='TRUE'] / 10.0  # convert Msun to K km / s pc^2\n",
    "lir = data['SFR'][data['det']=='TRUE'] / 1.49e-4   # convert SFR to L_HCN\n",
    "sfr = 10.**(np.array(np.log10(lir*Lsun/(erg/s)).to('')) - 43.41)\n",
    "epsff = np.array(0.01 * (sfr/lhcn/2.0e-7)**(1/1.1))\n",
    "data_sets.append({'author' : 'U15',\n",
    "                  'method' : 'HCN',\n",
    "                  'epsff' : epsff})"
   ]
  },
  {
   "cell_type": "code",
   "execution_count": 15,
   "metadata": {},
   "outputs": [],
   "source": [
    "# Stephens+ 2016 data set, using Kennicutt & Evans 2012 conversion from\n",
    "# FIR to SFR, and Onus+ 2018 calibration of epsilon_ff vs. L_FIR / L_HCN\n",
    "data = asc.read(osp.join('data', 'stephens2016.txt'))\n",
    "fluxFIR = 10.**data['logFIR']       # FIR flux in units of Lsun/kpc^2\n",
    "log_fluxHCN = data['FHCN']          # HCN flux in K km/s pc^2 / kpc^2\n",
    "fluxFIR = fluxFIR[np.logical_not(log_fluxHCN.mask)]\n",
    "fluxHCN = 10.**np.array(log_fluxHCN[np.logical_not(log_fluxHCN.mask)])\n",
    "\n",
    "# Convert to SFR per unit area using Kennicutt & Evans 2012 calibration\n",
    "Sigma_SFR = 10.**(np.array(np.log10(fluxFIR*Lsun/(erg/s)).to('')) - 43.41)\n",
    "\n",
    "# Convert SFR / HCN ratio to epsilon_ff using Onus+ 2018 calibration\n",
    "epsff = 0.01 * ((Sigma_SFR/fluxHCN)/(2.0e-7))**(1/1.1)\n",
    "data_sets.append({'author' : 'S16',\n",
    "                  'method' : 'HCN',\n",
    "                  'epsff' : epsff})"
   ]
  },
  {
   "cell_type": "code",
   "execution_count": 16,
   "metadata": {},
   "outputs": [
    {
     "name": "stderr",
     "output_type": "stream",
     "text": [
      "WARNING: UnitsWarning: 'mW/m2/sr' contains multiple slashes, which is discouraged by the FITS standard [astropy.units.format.generic]\n",
      "WARNING: UnitsWarning: 'Msun/pc2/yr' contains multiple slashes, which is discouraged by the FITS standard [astropy.units.format.generic]\n"
     ]
    }
   ],
   "source": [
    "# Gallagher+ 2018 data\n",
    "data = asc.read(osp.join('data', 'gallagher2018.txt'))\n",
    "sfr = data['SFR-TIR70um']\n",
    "lhcn = data['I-HCN']\n",
    "idx = lhcn > 0.0\n",
    "epsff = np.array(0.01 * (sfr/lhcn/2.0e-7)**(1/1.1))[idx]\n",
    "data_sets.append({'author' : 'G18',\n",
    "                  'method' : 'HCN',\n",
    "                  'epsff' : epsff})"
   ]
  },
  {
   "cell_type": "code",
   "execution_count": 17,
   "metadata": {},
   "outputs": [
    {
     "name": "stderr",
     "output_type": "stream",
     "text": [
      "/opt/local/Library/Frameworks/Python.framework/Versions/2.7/lib/python2.7/site-packages/ipykernel_launcher.py:14: RuntimeWarning: divide by zero encountered in log10\n",
      "  \n"
     ]
    }
   ],
   "source": [
    "# Compute statistics on data sets; also count how many data sets\n",
    "# using each method\n",
    "methods = OrderedDict()\n",
    "for i in range(len(data_sets)):\n",
    "    epsff = data_sets[i]['epsff']\n",
    "    hist, edges = np.histogram(np.log10(epsff[epsff>0]), \n",
    "                               bins='auto', density=True)\n",
    "    data_sets[i]['hist'] = 0.6*hist/np.amax(hist)\n",
    "    data_sets[i]['edges'] = edges\n",
    "    epsff_sort = np.sort(epsff)\n",
    "    data_sets[i]['cdf'] = np.log10(epsff_sort+1e-30)\n",
    "    data_sets[i]['effmean'] = np.mean(np.log10(epsff[epsff>0]))\n",
    "    data_sets[i]['effdisp'] = np.std(np.log10(epsff[epsff>0]))\n",
    "    data_sets[i]['pct'] = np.percentile(np.log10(epsff), [16, 50, 84])\n",
    "    if data_sets[i]['method'] in methods.keys():\n",
    "        if i == 0:\n",
    "            methods[data_sets[i]['method']]['n'] += 1\n",
    "        elif data_sets[i]['author'] != data_sets[i-1]['author']:\n",
    "            methods[data_sets[i]['method']]['n'] += 1\n",
    "    else:\n",
    "        methods[data_sets[i]['method']] = {'n' : 1}"
   ]
  },
  {
   "cell_type": "code",
   "execution_count": 18,
   "metadata": {},
   "outputs": [
    {
     "name": "stderr",
     "output_type": "stream",
     "text": [
      "/opt/local/Library/Frameworks/Python.framework/Versions/2.7/lib/python2.7/site-packages/matplotlib/cbook/deprecation.py:107: MatplotlibDeprecationWarning: Adding an axes using the same arguments as a previous axes currently reuses the earlier instance.  In a future version, a new instance will always be created and returned.  Meanwhile, this warning can be suppressed, and the future behavior ensured, by passing a unique label to each axes instance.\n",
      "  warnings.warn(message, mplDeprecation, stacklevel=1)\n"
     ]
    },
    {
     "data": {
      "image/png": "[encoded data removed]",
      "text/plain": [
       "<Figure size 576x288 with 4 Axes>"
      ]
     },
     "metadata": {},
     "output_type": "display_data"
    }
   ],
   "source": [
    "# Plot distributions\n",
    "plt.figure(1, figsize=(8,4))\n",
    "plt.clf()\n",
    "plt.rc('text', usetex=True)\n",
    "plt.rc('font', family='serif')\n",
    "\n",
    "# Panels for different methods\n",
    "for i, k in enumerate(methods.keys()):\n",
    "    methods[k]['panel'] = i+1\n",
    "    methods[k]['ctr'] = 0\n",
    "\n",
    "# Loop over data sets\n",
    "rpt = False\n",
    "for i, d in enumerate(data_sets):\n",
    "    \n",
    "    # Set panel\n",
    "    meth = d['method']\n",
    "    plt.subplot(2,2,methods[meth]['panel'])\n",
    "    \n",
    "    # Plot data set\n",
    "    ctr = methods[meth]['ctr']\n",
    "    clr = 'C{:1d}'.format(ctr)\n",
    "    if not rpt:\n",
    "        plt.bar(d['edges'][:-1], d['hist'], width=d['edges'][1:]-d['edges'][:-1], \n",
    "                align='edge', bottom=ctr, color=clr)\n",
    "    else:\n",
    "        plt.bar(d['edges'][:-1], d['hist'], width=d['edges'][1:]-d['edges'][:-1], \n",
    "                align='edge', bottom=ctr, color='k', alpha=0.25)\n",
    "\n",
    "    # Plot separator\n",
    "    if ctr > 0 and not rpt:\n",
    "        plt.plot([-4,0], [ctr,ctr], 'k--', alpha=0.25)\n",
    "    \n",
    "    # Plot mean and stddev\n",
    "    if not rpt:\n",
    "        plt.errorbar(np.array([d['pct'][1]]), \n",
    "                     np.array([0.85+ctr]), \n",
    "                     xerr=np.transpose(np.array([[d['pct'][1]-d['pct'][0], \n",
    "                                                  d['pct'][2]-d['pct'][1]]])), \n",
    "                     fmt='o', color=clr, ecolor=clr, capsize=3)\n",
    "            \n",
    "    # Label\n",
    "    if not rpt:\n",
    "        if d['author'] == 'O17' or d['author'] == 'L16' or d['author'] == 'H16':\n",
    "            plt.text(-3.95, ctr+0.9, \n",
    "                     ('{:s}\\n$'\n",
    "                      '\\log\\epsilon_{{\\mathrm{{ff}}}}={:4.1f}^{{+{:4.2f}}}_{{-{:4.2f}}}$').\n",
    "                     format(d['author'], d['pct'][1], d['pct'][2]-d['pct'][1], \n",
    "                            d['pct'][1]-d['pct'][0]), va='top', ha='left',\n",
    "                     color=clr)\n",
    "        else:\n",
    "            plt.text(-3.95, ctr+0.9, d['author'], va='top', ha='left', color=clr)\n",
    "            plt.text(-0.05, ctr+0.9, \n",
    "                      '$\\log\\epsilon_{{\\mathrm{{ff}}}}={:4.1f}^{{+{:4.2f}}}_{{-{:4.2f}}}$'.\n",
    "                     format(d['pct'][1], \n",
    "                            d['pct'][2]-d['pct'][1], \n",
    "                            d['pct'][1]-d['pct'][0]), va='top', ha='right',\n",
    "                     color=clr)\n",
    "            \n",
    "    # See if next thing to plot is a repeat of this\n",
    "    if i != len(data_sets)-1:\n",
    "        if d['author'] != data_sets[i+1]['author']:\n",
    "            methods[meth]['ctr'] += 1\n",
    "            rpt = False\n",
    "        else:\n",
    "            rpt = True\n",
    "    else:\n",
    "        rpt = False\n",
    "        \n",
    "# Adjust axes, labels, and spacing\n",
    "methods[meth]['ctr'] += 1\n",
    "for i, k in enumerate(methods.keys()):\n",
    "    plt.subplot(2,2,i+1)\n",
    "    plt.title(k)\n",
    "    plt.xlim([-4,0])\n",
    "    plt.ylim([0,methods[k]['ctr']])\n",
    "    plt.plot([-2,-2], [0,methods[k]['ctr']], 'k--', alpha=0.25)\n",
    "    plt.gca().set_yticks([])\n",
    "    if i == 0 or i == 1:\n",
    "        plt.gca().set_xticklabels([])\n",
    "    else:\n",
    "        plt.xlabel(r'$\\log\\,\\epsilon_{\\mathrm{ff}}$')\n",
    "    if i == 0 or i == 2:\n",
    "        plt.ylabel('PDF [arbitrary units]')\n",
    "plt.subplots_adjust(wspace=0.075, hspace=0.25, left=0.05, right=0.95, top=0.93, bottom=0.12)\n",
    "        \n",
    "# Save\n",
    "plt.savefig(osp.join('figures', 'epsff.pdf'))"
   ]
  },
  {
   "cell_type": "code",
   "execution_count": 19,
   "metadata": {},
   "outputs": [
    {
     "name": "stdout",
     "output_type": "stream",
     "text": [
      "j16, yso: 30 Dor: ID = 97_j16_myso, log M_c = 6.444045, t_ff = 15.300000, log SFR = 4.071882, eps_ff = 0.065000\n",
      "j16, ha24: 30 Dor: ID = 56_j16_ha24, log M_c = 6.444045, t_ff = 15.300000, log SFR = 4.841985, eps_ff = 0.383000\n",
      "mag, yso: 30 Dor: ID = 208_mag_myso, log M_c = 5.290035, t_ff = 10.000000, log SFR = 3.773055, eps_ff = 0.306000\n",
      "mag, ha24: 30 Dor: ID = 43_mag_ha24, log M_c = 5.348305, t_ff = 11.300000, log SFR = 4.959995, eps_ff = 4.610000\n"
     ]
    }
   ],
   "source": [
    "# Read in all 4 versions of the Ochsendorf+ 2017 data\n",
    "cloudcat = ['j16', 'mag']\n",
    "sfrmeth = ['yso', 'ha24']\n",
    "o17 = {}\n",
    "for cc in cloudcat:\n",
    "    o17tmp = {}\n",
    "    for meth in sfrmeth:\n",
    "        data = asc.read(osp.join('data', 'ochsendorf2017_'+cc+'_'+meth+'.txt'))\n",
    "        epsff = data['SFEff']\n",
    "        # Apply upper limit to YSO-based method, using O+17's\n",
    "        # stated detection limit of 100 Msun/Myr\n",
    "        if meth=='yso':\n",
    "            ulim = epsff==0.0\n",
    "            epsff[ulim] = 100./(data['Mass'][ulim]/data['tff'][ulim])\n",
    "        else:\n",
    "            ulim = np.zeros(epsff.size, dtype=bool)\n",
    "        # Save data\n",
    "        cat = {\"epsff\"  : epsff,\n",
    "               \"sfr\"    : data['SFR'],\n",
    "               \"mcloud\" : data['Mass'],\n",
    "               \"tff\"    : data['tff'],\n",
    "               \"ra\"     : data['RAdeg'],\n",
    "               \"dec\"    : data['DEdeg'],\n",
    "               \"name\"   : data['Name'],\n",
    "               \"ulim\"   : ulim}\n",
    "        o17tmp[meth] = cat\n",
    "    o17[cc] = o17tmp\n",
    "    \n",
    "# Record index of 30 Dor -- this is the highest SFR in the Ha+24 catalogs\n",
    "for cc in cloudcat:\n",
    "    idx = np.argmax(o17[cc]['ha24']['sfr'])\n",
    "    o17[cc]['ha24']['30dor'] = idx\n",
    "    offset = (o17[cc]['ha24']['ra'][idx] - o17[cc]['yso']['ra'])**2 + \\\n",
    "                     (o17[cc]['ha24']['dec'][idx] - o17[cc]['yso']['dec'])**2\n",
    "    idx1 = np.argmin(offset)\n",
    "    o17[cc]['yso']['30dor'] = idx1\n",
    "    for meth in sfrmeth:\n",
    "        i = o17[cc][meth]['30dor']\n",
    "        print(\"{:s}, {:s}: 30 Dor: ID = {:s}, log M_c = {:f}, t_ff = {:f}, log SFR = {:f}, eps_ff = {:f}\".\n",
    "              format(cc, meth, o17[cc][meth]['name'][i],\n",
    "                     np.log10(o17[cc][meth]['mcloud'][i]),\n",
    "                     o17[cc][meth]['tff'][i],\n",
    "                     np.log10(o17[cc][meth]['sfr'][i]),\n",
    "                     o17[cc][meth]['epsff'][i]))\n",
    "        \n",
    "# Go through catalogs and find 1-1 matches in position\n",
    "for cc in cloudcat:\n",
    "    raoff = np.subtract.outer(o17[cc]['ha24']['ra'], o17[cc]['yso']['ra'])\n",
    "    deoff = np.subtract.outer(o17[cc]['ha24']['dec'], o17[cc]['yso']['dec'])\n",
    "    off2 = raoff**2 + deoff**2\n",
    "    imatch, jmatch = np.where(off2 == 0.0)\n",
    "    o17[cc]['ha24']['matches'] = -np.ones(len(o17[cc]['ha24']['epsff']), dtype='int')\n",
    "    o17[cc]['ha24']['matches'][imatch] = jmatch\n",
    "    o17[cc]['yso']['matches'] = -np.ones(len(o17[cc]['yso']['epsff']), dtype='int')\n",
    "    o17[cc]['yso']['matches'][jmatch] = imatch"
   ]
  },
  {
   "cell_type": "code",
   "execution_count": 20,
   "metadata": {},
   "outputs": [],
   "source": [
    "# Read the image of 30 Dor, plus its limits\n",
    "img=mpimg.imread(osp.join('data', 'ochsendorf2017.png'))\n",
    "xlim=[85.54, 83.89]\n",
    "ylim=[-69.36, -68.78]"
   ]
  },
  {
   "cell_type": "code",
   "execution_count": 21,
   "metadata": {},
   "outputs": [
    {
     "data": {
      "image/png": "[encoded data removed]",
      "text/plain": [
       "<Figure size 576x252 with 2 Axes>"
      ]
     },
     "metadata": {},
     "output_type": "display_data"
    }
   ],
   "source": [
    "# Plot CDFs from Oschendorf+ 17 for J16 map, plus image of 30 Dor\n",
    "plt.figure(1, figsize=(8,3.5))\n",
    "plt.clf()\n",
    "plt.rc('text', usetex=True)\n",
    "plt.rc('font', family='serif')\n",
    "\n",
    "# Plot CDFs from two different methods\n",
    "plt.subplot(1,2,1)\n",
    "for i, m in enumerate(sfrmeth):\n",
    "    cat = o17['j16'][m]\n",
    "    clr = 'C'+str(i)\n",
    "    epsff = np.copy(cat['epsff'])\n",
    "    logepsff = np.sort(np.log10(epsff))\n",
    "    plt.plot(logepsff, np.linspace(0,1,len(logepsff)), color=clr)\n",
    "    ulim = cat['ulim']\n",
    "    epsff_lim = np.copy(epsff)\n",
    "    epsff_lim[ulim] = 1e-30\n",
    "    logepsff_lim = np.sort(np.log10(epsff_lim))\n",
    "    if m == 'yso':\n",
    "        lab = 'YSO counting'\n",
    "    else:\n",
    "        lab = 'Cloud matching'\n",
    "    plt.plot(logepsff_lim, np.linspace(0,1,len(logepsff_lim)), color=clr, label=lab)\n",
    "    plt.fill_betweenx(np.linspace(0,1,len(logepsff)), logepsff, logepsff_lim, color=clr, alpha=0.2)\n",
    "    epsff_30dor = epsff[cat[\"30dor\"]]\n",
    "    cdf_30dor = np.sum(epsff <= epsff_30dor)/float(len(epsff))\n",
    "    cdflim_30dor = np.sum(epsff_lim <= epsff_30dor)/float(len(epsff_lim))\n",
    "    plt.plot([np.log10(epsff_30dor), np.log10(epsff_30dor)], \n",
    "             [cdf_30dor, cdflim_30dor], '*', color=clr, ms=14)\n",
    "\n",
    "# Add 30 Dor to legend\n",
    "plt.plot([10], [10], '*', color='k', ms=14, label='30 Dor')\n",
    "plt.legend(loc='upper left')\n",
    "\n",
    "# Adjust axes\n",
    "plt.xlim([-3,-0.2])\n",
    "plt.ylim([0,1.1])\n",
    "plt.xlabel(r'$\\log\\,\\epsilon_{\\mathrm{ff}}$')\n",
    "plt.ylabel('CDF')\n",
    "\n",
    "# Plot image\n",
    "ax=plt.subplot(1,2,2)\n",
    "plt.imshow(img, extent=(xlim[0], xlim[1], ylim[0], ylim[1]),\n",
    "           aspect=(xlim[0]-xlim[1])/(ylim[1]-ylim[0]))\n",
    "\n",
    "# Add scale bar\n",
    "dlmc = 49.97e3    # LMC distance in pc, from Pietrzynski et al., 2013, Nature, 495, 76\n",
    "xsc = 84.35\n",
    "ysc = -69.32\n",
    "dxsc = 100/dlmc*180/np.pi / \\\n",
    "        np.cos(0.5*(ylim[0]+ylim[1])*np.pi/180)  # 100 pc, converted to RA at LMC position on sky\n",
    "plt.plot([xsc, xsc-dxsc], [ysc, ysc], 'k', lw=2)\n",
    "plt.text(xsc-dxsc/2, ysc+0.005, '100 pc', horizontalalignment='center',\n",
    "         verticalalignment='bottom')\n",
    "\n",
    "# Add axis labels\n",
    "plt.ylabel('DEC (J2000)')\n",
    "plt.xlabel('RA (J2000)')\n",
    "ax.xaxis.set_major_formatter(StrMethodFormatter(\"{x:.1f}$^\\circ$\"))\n",
    "ax.yaxis.set_major_formatter(StrMethodFormatter(\"{x:.1f}$^\\circ$\"))\n",
    "\n",
    "# Adjust spacing\n",
    "plt.subplots_adjust(wspace=0.3)\n",
    "\n",
    "# Save\n",
    "plt.savefig(osp.join('figures', 'epsff_meth.pdf'))"
   ]
  },
  {
   "cell_type": "code",
   "execution_count": null,
   "metadata": {},
   "outputs": [],
   "source": []
  }
 ],
 "metadata": {
  "kernelspec": {
   "display_name": "Python 2",
   "language": "python",
   "name": "python2"
  },
  "language_info": {
   "codemirror_mode": {
    "name": "ipython",
    "version": 2
   },
   "file_extension": ".py",
   "mimetype": "text/x-python",
   "name": "python",
   "nbconvert_exporter": "python",
   "pygments_lexer": "ipython2",
   "version": "2.7.15"
  }
 },
 "nbformat": 4,
 "nbformat_minor": 2
}
